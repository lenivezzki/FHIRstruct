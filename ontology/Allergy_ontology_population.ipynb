{
 "cells": [
  {
   "cell_type": "markdown",
   "metadata": {},
   "source": [
    "## Заполнение онтологии из файла"
   ]
  },
  {
   "cell_type": "code",
   "execution_count": 6,
   "metadata": {},
   "outputs": [],
   "source": [
    "from owlready2 import *\n",
    "import types\n",
    "import csv\n",
    "import codecs\n",
    "\n",
    "#Функция для заполнения онтологии с готовой структурой классов инстансами из справочников\n",
    "def populate_ontology_indidviduals(onto_path, txt_path, save=True, encoding='cp1251'):\n",
    "    onto = get_ontology(onto_path).load()\n",
    "    with codecs.open(txt_path, 'r', encoding) as fp:\n",
    "        data = fp.readlines()\n",
    "        \n",
    "    try:\n",
    "        if 'environment' in txt_path:\n",
    "            Class = onto.Environment\n",
    "        elif 'food' in txt_path:\n",
    "            Class = onto.Food\n",
    "        elif 'medication' in txt_path:\n",
    "            Class = onto.Medication\n",
    "        elif 'reaction' in txt_path:\n",
    "            Class = onto.Manifestation\n",
    "    except NoCategoryInOntologyError:\n",
    "        Class = onto.Other\n",
    "        \n",
    "    with onto:\n",
    "        for row in data[1:]:\n",
    "            id_, parent, snomed_name, snomed_code, snomed_partial_code, is_direct = row.split('\\t')\n",
    "                    \n",
    "            if id_:\n",
    "                individual = Class(id_)\n",
    "                          \n",
    "            if snomed_name:\n",
    "                individual.snomedName = snomed_name\n",
    "        \n",
    "            if snomed_code:\n",
    "                individual.snomedCode = snomed_code\n",
    "        \n",
    "            if snomed_partial_code:\n",
    "                individual.snomedPartialCode = snomed_partial_code\n",
    "            \n",
    "            if is_direct==1:\n",
    "                isDirect = True\n",
    "            else:\n",
    "                isDirect = False\n",
    "            individual.isDirect = isDirect\n",
    "            \n",
    "            if save:\n",
    "                onto.save(onto_path)\n",
    "    return onto"
   ]
  },
  {
   "cell_type": "code",
   "execution_count": 12,
   "metadata": {},
   "outputs": [],
   "source": [
    "onto_path = \"Allergy_ontology.owl\"\n",
    "txt_path = 'environment.txt'\n",
    "onto = populate_ontology_indidviduals(onto_path, txt_path, save=False)\n",
    "txt_path = 'medication.txt'\n",
    "onto = populate_ontology_indidviduals(onto_path, txt_path, save=False)\n",
    "txt_path = 'food.txt'\n",
    "onto = populate_ontology_indidviduals(onto_path, txt_path, save=False)\n",
    "txt_path = 'reactions.txt'\n",
    "onto = populate_ontology_indidviduals(onto_path, txt_path, save=True)"
   ]
  },
  {
   "cell_type": "code",
   "execution_count": 8,
   "metadata": {},
   "outputs": [
    {
     "name": "stdout",
     "output_type": "stream",
     "text": [
      "[Allergy_ontology.Food]\n",
      "[Allergy_ontology.Manifestation]\n",
      "[Allergy_ontology.Environment]\n",
      "[Allergy_ontology.Medication]\n"
     ]
    }
   ],
   "source": [
    "print(onto.Яблоко.is_a)\n",
    "print(onto.крапивница.is_a)\n",
    "print(onto.Голубь.is_a)\n",
    "print(onto.пенициллин.is_a)"
   ]
  },
  {
   "cell_type": "code",
   "execution_count": 9,
   "metadata": {},
   "outputs": [
    {
     "name": "stdout",
     "output_type": "stream",
     "text": [
      "Яблоко Allergy to apple (finding) 860604008\n"
     ]
    }
   ],
   "source": [
    "print(onto.Яблоко.name, onto.Яблоко.snomedName, onto.Яблоко.snomedCode)"
   ]
  },
  {
   "cell_type": "code",
   "execution_count": 10,
   "metadata": {},
   "outputs": [
    {
     "name": "stdout",
     "output_type": "stream",
     "text": [
      "Количество терминов: 2915\n"
     ]
    }
   ],
   "source": [
    "print('Количество терминов:',len(list(onto.individuals())))"
   ]
  },
  {
   "cell_type": "code",
   "execution_count": 11,
   "metadata": {},
   "outputs": [],
   "source": [
    "#Как создать правильный класс\n",
    "#Вариант 1\n",
    "#with onto:\n",
    "#    class бассейн(onto.Environment): pass\n",
    "\n",
    "#Вариант 2 - динамический\n",
    "#with onto:\n",
    "#    for row in data:\n",
    "#        id_, parent, snomed_name, snomed_code, snomed_partial_code, is_direct = row.split('\\t')\n",
    "#       \n",
    "#        if parent: \n",
    "#            parent = 'Environment'\n",
    "#        else:\n",
    "#            parent = [Thing]\n",
    "#        Class = types.new_class(id_, (onto[parent],))"
   ]
  }
 ],
 "metadata": {
  "kernelspec": {
   "display_name": "Python 3",
   "language": "python",
   "name": "python3"
  },
  "language_info": {
   "codemirror_mode": {
    "name": "ipython",
    "version": 3
   },
   "file_extension": ".py",
   "mimetype": "text/x-python",
   "name": "python",
   "nbconvert_exporter": "python",
   "pygments_lexer": "ipython3",
   "version": "3.8.5"
  }
 },
 "nbformat": 4,
 "nbformat_minor": 4
}
