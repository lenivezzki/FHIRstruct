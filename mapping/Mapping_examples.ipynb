{
 "cells": [
  {
   "cell_type": "markdown",
   "metadata": {},
   "source": [
    "# FHIR-mapper"
   ]
  },
  {
   "cell_type": "markdown",
   "metadata": {},
   "source": [
    "##### Инструмент для структурирования и интеграции данных на языке Python, на основе стандарта обмена медицинскими данными  HL7-FHIR"
   ]
  },
  {
   "cell_type": "markdown",
   "metadata": {},
   "source": [
    "## Import"
   ]
  },
  {
   "cell_type": "code",
   "execution_count": 1,
   "metadata": {},
   "outputs": [],
   "source": [
    "import os, sys\n",
    "\n",
    "PACKAGE_PATH = '../mapping'\n",
    "sys.path.append(PACKAGE_PATH)\n",
    "os.chdir(PACKAGE_PATH)"
   ]
  },
  {
   "cell_type": "code",
   "execution_count": 2,
   "metadata": {
    "scrolled": true
   },
   "outputs": [
    {
     "name": "stdout",
     "output_type": "stream",
     "text": [
      "Paths weight_path is ВходнойВес.txt\n",
      "Paths cardio_db_path is cardio_data.txt\n",
      "Paths cache_db_path is SummaryFile.txt\n"
     ]
    }
   ],
   "source": [
    "from mapper import FHIR_Mapper\n",
    "fm = FHIR_Mapper('settings.ini')"
   ]
  },
  {
   "cell_type": "markdown",
   "metadata": {},
   "source": [
    "## Use"
   ]
  },
  {
   "cell_type": "markdown",
   "metadata": {},
   "source": [
    "### Мапинг структурированных данных базы №1(Cache) на ресурс Patient"
   ]
  },
  {
   "cell_type": "code",
   "execution_count": 3,
   "metadata": {},
   "outputs": [
    {
     "name": "stdout",
     "output_type": "stream",
     "text": [
      "Paths path_fin is C://Users//Admin//Documents//GitHub//FHIRstruct//mapping\n"
     ]
    },
    {
     "data": {
      "text/plain": [
       "{'address': [{'line': ['Улица: Снвцр', 'Номер дома: хх', 'Квартира: 571'],\n",
       "   'postalCode': '453656'}],\n",
       " 'birthDate': '19510326',\n",
       " 'gender': 'female',\n",
       " 'identifier': [{'value': 'Patient/GACAKв7'}],\n",
       " 'name': [{'family': 'Лисщрфоюь',\n",
       "   'given': ['Щкамзы', 'Шлэшфбчфлж'],\n",
       "   'text': 'Лисщрфоюь Щкамзы Шлэшфбчфлж'}],\n",
       " 'resourceType': 'Patient'}"
      ]
     },
     "execution_count": 3,
     "metadata": {},
     "output_type": "execute_result"
    }
   ],
   "source": [
    "fm.make_FHIR_patient_from_Cache(0, print_=True)"
   ]
  },
  {
   "cell_type": "markdown",
   "metadata": {},
   "source": [
    "### Мапинг структурированных данных базы №2(SQL) на ресурс Patient"
   ]
  },
  {
   "cell_type": "code",
   "execution_count": 4,
   "metadata": {},
   "outputs": [
    {
     "name": "stdout",
     "output_type": "stream",
     "text": [
      "Paths path_fin is C://Users//Admin//Documents//GitHub//FHIRstruct//mapping\n"
     ]
    },
    {
     "data": {
      "text/plain": [
       "{'birthDate': '1940-01-13',\n",
       " 'gender': 'female',\n",
       " 'identifier': [{'value': 'Patient/1648'},\n",
       "  {'system': 'СНИЛС', 'value': '000-000-000 00'}],\n",
       " 'name': [{'family': 'Фамилия1648',\n",
       "   'given': ['Имя1648', 'Отчество1648'],\n",
       "   'text': 'Имя1648 Отчество1648 Фамилия1648'}],\n",
       " 'resourceType': 'Patient'}"
      ]
     },
     "execution_count": 4,
     "metadata": {},
     "output_type": "execute_result"
    }
   ],
   "source": [
    "fm.make_FHIR_patient_from_Cardio(0, print_=True)"
   ]
  },
  {
   "cell_type": "markdown",
   "metadata": {},
   "source": [
    "### Мапинг структурированных данных (Вес) базы №1(Cache) на ресурс Observation с указанием кодов SNOMED"
   ]
  },
  {
   "cell_type": "code",
   "execution_count": 5,
   "metadata": {},
   "outputs": [
    {
     "name": "stdout",
     "output_type": "stream",
     "text": [
      "Paths path_fin is C://Users//Admin//Documents//GitHub//FHIRstruct//mapping\n"
     ]
    },
    {
     "data": {
      "text/plain": [
       "{'bodySite': {'coding': [{'code': '261188006',\n",
       "    'display': 'Whole body',\n",
       "    'system': 'http://snomed.info/sct'}]},\n",
       " 'code': {'coding': [{'code': '27113001',\n",
       "    'display': 'Body weight',\n",
       "    'system': 'http://snomed.info/sct'}],\n",
       "  'text': 'Вес'},\n",
       " 'effectiveDateTime': '20200627',\n",
       " 'identifier': [{'value': 'GACAAAYAAAAbs11:30-k'}],\n",
       " 'status': 'неизвестно',\n",
       " 'subject': {'reference': 'Patient/GACAAAY'},\n",
       " 'valueQuantity': {'code': '258683005',\n",
       "  'system': 'http://snomed.info/sct',\n",
       "  'unit': 'kg',\n",
       "  'value': 82.0},\n",
       " 'resourceType': 'Observation'}"
      ]
     },
     "execution_count": 5,
     "metadata": {},
     "output_type": "execute_result"
    }
   ],
   "source": [
    "fm.make_FHIR_weights(0, print_=True)"
   ]
  },
  {
   "cell_type": "markdown",
   "metadata": {},
   "source": [
    "### Мапинг неструктурированных текстов на ресурс AllergyIntilerance FHIR с указанием кодов SNOMED CT"
   ]
  },
  {
   "cell_type": "code",
   "execution_count": 6,
   "metadata": {},
   "outputs": [],
   "source": [
    "from unstructured_mapper import FHIR_Mapper"
   ]
  },
  {
   "cell_type": "code",
   "execution_count": 7,
   "metadata": {},
   "outputs": [],
   "source": [
    "text_1 = 'Атопический дерматит на пальцах кистей на фоне морозного воздуха, контакта с шерстью животных.'\n",
    "text = \"\"\"\n",
    "Аллергологический анамнез аллергия на пенициллины, ефалоспорины крапивница, \n",
    "новокаин, криопреципитат, плазма анафилактический шок, димедрол отек Квинке, \n",
    "АХД ожоги, бром не помнит пищевые продукты отек Квинке, крапивница, медикаменты \n",
    "новокаин, пенициллин, бытовые аллергены\n",
    "\"\"\""
   ]
  },
  {
   "cell_type": "code",
   "execution_count": 8,
   "metadata": {},
   "outputs": [],
   "source": [
    "fm = FHIR_Mapper()"
   ]
  },
  {
   "cell_type": "code",
   "execution_count": 9,
   "metadata": {},
   "outputs": [
    {
     "data": {
      "text/plain": [
       "{'category': ['food', 'environment', 'medication'],\n",
       " 'code': {'coding': [{'code': '126485001',\n",
       "    'display': 'Urticaria (disorder)',\n",
       "    'system': 'http://snomed.info/sct'},\n",
       "   {'code': '735173007',\n",
       "    'display': 'Shock co-occurrent and due to anaphylaxis (disorder)',\n",
       "    'system': 'http://snomed.info/sct'},\n",
       "   {'code': '41291007',\n",
       "    'display': 'Angioedema (disorder)',\n",
       "    'system': 'http://snomed.info/sct'},\n",
       "   {'code': '125666000',\n",
       "    'display': 'Burn (disorder)',\n",
       "    'system': 'http://snomed.info/sct'},\n",
       "   {'code': '414285001',\n",
       "    'display': 'Allergy to food (finding)',\n",
       "    'system': 'http://snomed.info/sct'},\n",
       "   {'code': '426232007',\n",
       "    'display': 'Environmental allergy (finding)',\n",
       "    'system': 'http://snomed.info/sct'},\n",
       "   {'code': '764146007',\n",
       "    'display': 'Penicillin (substance) ',\n",
       "    'system': 'http://snomed.info/sct'},\n",
       "   {'code': '293727006',\n",
       "    'display': 'Allergy to procaine (finding)',\n",
       "    'system': 'http://snomed.info/sct'},\n",
       "   {'code': '420599006',\n",
       "    'display': 'Cryoprecipitate (substance)',\n",
       "    'system': 'http://snomed.info/sct'},\n",
       "   {'code': '52454007',\n",
       "    'display': 'albumin',\n",
       "    'system': 'http://snomed.info/sct'},\n",
       "   {'code': '294133003',\n",
       "    'display': 'Allergy to diphenhydramine (finding)',\n",
       "    'system': 'http://snomed.info/sct'},\n",
       "   {'code': '0',\n",
       "    'display': 'methylcarbinol',\n",
       "    'system': 'http://snomed.info/sct'},\n",
       "   {'code': '0', 'display': '0', 'system': 'http://snomed.info/sct'},\n",
       "   {'code': '410942007',\n",
       "    'display': 'Drug or medicament (substance) ',\n",
       "    'system': 'http://snomed.info/sct'}],\n",
       "  'text': 'пищевой продукт, бытовой аллерген, пенициллин, новокаин, криопреципитат, плазма, димедрол, ахд, бром, медикамент, крапивница, анафилактический шок, отек квинке, ожог'},\n",
       " 'note': [{'text': '\\nАллергологический анамнез аллергия на пенициллины, ефалоспорины крапивница, \\nновокаин, криопреципитат, плазма анафилактический шок, димедрол отек Квинке, \\nАХД ожоги, бром не помнит пищевые продукты отек Квинке, крапивница, медикаменты \\nновокаин, пенициллин, бытовые аллергены\\n'}],\n",
       " 'patient': {'reference': 'Patient/example'},\n",
       " 'type': 'allergy',\n",
       " 'resourceType': 'AllergyIntolerance'}"
      ]
     },
     "execution_count": 9,
     "metadata": {},
     "output_type": "execute_result"
    }
   ],
   "source": [
    "fm.make_FHIR_AI(text)"
   ]
  },
  {
   "cell_type": "code",
   "execution_count": 10,
   "metadata": {
    "scrolled": true
   },
   "outputs": [
    {
     "data": {
      "text/plain": [
       "{'category': ['environment'],\n",
       " 'code': {'coding': [{'code': '24079001',\n",
       "    'display': 'Atopic dermatitis (disorder)',\n",
       "    'system': 'http://snomed.info/sct'},\n",
       "   {'code': '74774004',\n",
       "    'display': 'Urticaria caused by cold (disorder)',\n",
       "    'system': 'http://snomed.info/sct'},\n",
       "   {'code': '425605001',\n",
       "    'display': 'Allergy to wool (finding)',\n",
       "    'system': 'http://snomed.info/sct'}],\n",
       "  'text': 'морозный воздух, шерсть животного, атопический дерматит'},\n",
       " 'note': [{'text': 'Атопический дерматит на пальцах кистей на фоне морозного воздуха, контакта с шерстью животных.'}],\n",
       " 'patient': {'reference': 'Patient/example'},\n",
       " 'type': 'allergy',\n",
       " 'resourceType': 'AllergyIntolerance'}"
      ]
     },
     "execution_count": 10,
     "metadata": {},
     "output_type": "execute_result"
    }
   ],
   "source": [
    "fm.make_FHIR_AI(text_1)"
   ]
  }
 ],
 "metadata": {
  "kernelspec": {
   "display_name": "Python 3",
   "language": "python",
   "name": "python3"
  },
  "language_info": {
   "codemirror_mode": {
    "name": "ipython",
    "version": 3
   },
   "file_extension": ".py",
   "mimetype": "text/x-python",
   "name": "python",
   "nbconvert_exporter": "python",
   "pygments_lexer": "ipython3",
   "version": "3.8.5"
  }
 },
 "nbformat": 4,
 "nbformat_minor": 2
}
