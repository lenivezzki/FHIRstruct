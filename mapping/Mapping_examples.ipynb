{
 "cells": [
  {
   "cell_type": "markdown",
   "metadata": {},
   "source": [
    "# FHIR-mapper"
   ]
  },
  {
   "cell_type": "markdown",
   "metadata": {},
   "source": [
    "##### Инструмент для структурирования и интеграции данных на языке Python, на основе стандарта обмена медицинскими данными  HL7-FHIR"
   ]
  },
  {
   "cell_type": "markdown",
   "metadata": {},
   "source": [
    "## Import"
   ]
  },
  {
   "cell_type": "code",
   "execution_count": 1,
   "metadata": {},
   "outputs": [],
   "source": [
    "import os, sys\n",
    "\n",
    "PACKAGE_PATH = 'C://Users//Julia//Desktop//Данные//Оформленный код//Оформленный код//FHIR_mapping'\n",
    "sys.path.append('C://Users//Julia//Desktop//Данные//Оформленный код//Оформленный код//FHIR_mapping')\n",
    "os.chdir('C://Users//Julia//Desktop//Данные//Оформленный код//Оформленный код//FHIR_mapping')"
   ]
  },
  {
   "cell_type": "code",
   "execution_count": 2,
   "metadata": {},
   "outputs": [
    {
     "ename": "ModuleNotFoundError",
     "evalue": "No module named 'fhir.resources.fhirreference'",
     "output_type": "error",
     "traceback": [
      "\u001b[1;31m---------------------------------------------------------------------------\u001b[0m",
      "\u001b[1;31mModuleNotFoundError\u001b[0m                       Traceback (most recent call last)",
      "\u001b[1;32m<ipython-input-2-4029e3faa170>\u001b[0m in \u001b[0;36m<module>\u001b[1;34m\u001b[0m\n\u001b[1;32m----> 1\u001b[1;33m \u001b[1;32mfrom\u001b[0m \u001b[0mmapper\u001b[0m \u001b[1;32mimport\u001b[0m \u001b[0mFHIR_Mapper\u001b[0m\u001b[1;33m\u001b[0m\u001b[1;33m\u001b[0m\u001b[0m\n\u001b[0m\u001b[0;32m      2\u001b[0m \u001b[0mfm\u001b[0m \u001b[1;33m=\u001b[0m \u001b[0mFHIR_Mapper\u001b[0m\u001b[1;33m(\u001b[0m\u001b[1;34m'../FHIR_mapping/settings.ini'\u001b[0m\u001b[1;33m)\u001b[0m\u001b[1;33m\u001b[0m\u001b[1;33m\u001b[0m\u001b[0m\n",
      "\u001b[1;32m~\\Desktop\\Данные\\Оформленный код\\Оформленный код\\FHIR_mapping\\mapper.py\u001b[0m in \u001b[0;36m<module>\u001b[1;34m\u001b[0m\n\u001b[0;32m      4\u001b[0m \u001b[1;32mfrom\u001b[0m \u001b[0mfhir\u001b[0m\u001b[1;33m.\u001b[0m\u001b[0mresources\u001b[0m\u001b[1;33m.\u001b[0m\u001b[0mcoding\u001b[0m \u001b[1;32mimport\u001b[0m \u001b[0mCoding\u001b[0m\u001b[1;33m\u001b[0m\u001b[1;33m\u001b[0m\u001b[0m\n\u001b[0;32m      5\u001b[0m \u001b[1;32mfrom\u001b[0m \u001b[0mfhir\u001b[0m\u001b[1;33m.\u001b[0m\u001b[0mresources\u001b[0m\u001b[1;33m.\u001b[0m\u001b[0mcodeableconcept\u001b[0m \u001b[1;32mimport\u001b[0m \u001b[0mCodeableConcept\u001b[0m\u001b[1;33m\u001b[0m\u001b[1;33m\u001b[0m\u001b[0m\n\u001b[1;32m----> 6\u001b[1;33m \u001b[1;32mfrom\u001b[0m \u001b[0mfhir\u001b[0m\u001b[1;33m.\u001b[0m\u001b[0mresources\u001b[0m\u001b[1;33m.\u001b[0m\u001b[0mfhirreference\u001b[0m \u001b[1;32mimport\u001b[0m \u001b[0mFHIRReference\u001b[0m\u001b[1;33m\u001b[0m\u001b[1;33m\u001b[0m\u001b[0m\n\u001b[0m\u001b[0;32m      7\u001b[0m \u001b[1;32mfrom\u001b[0m \u001b[0mfhir\u001b[0m\u001b[1;33m.\u001b[0m\u001b[0mresources\u001b[0m\u001b[1;33m.\u001b[0m\u001b[0mfhirdate\u001b[0m \u001b[1;32mimport\u001b[0m \u001b[0mFHIRDate\u001b[0m\u001b[1;33m\u001b[0m\u001b[1;33m\u001b[0m\u001b[0m\n\u001b[0;32m      8\u001b[0m \u001b[1;32mfrom\u001b[0m \u001b[0mfhir\u001b[0m\u001b[1;33m.\u001b[0m\u001b[0mresources\u001b[0m\u001b[1;33m.\u001b[0m\u001b[0mquantity\u001b[0m \u001b[1;32mimport\u001b[0m \u001b[0mQuantity\u001b[0m\u001b[1;33m\u001b[0m\u001b[1;33m\u001b[0m\u001b[0m\n",
      "\u001b[1;31mModuleNotFoundError\u001b[0m: No module named 'fhir.resources.fhirreference'"
     ]
    }
   ],
   "source": [
    "from mapper import FHIR_Mapper\n",
    "fm = FHIR_Mapper('../FHIR_mapping/settings.ini')"
   ]
  },
  {
   "cell_type": "markdown",
   "metadata": {},
   "source": [
    "## Use"
   ]
  },
  {
   "cell_type": "markdown",
   "metadata": {},
   "source": [
    "### Мапинг структурированных данных базы №1(Cache) на ресурс Patient"
   ]
  },
  {
   "cell_type": "code",
   "execution_count": 5,
   "metadata": {},
   "outputs": [
    {
     "name": "stdout",
     "output_type": "stream",
     "text": [
      "Paths path_fin is C:\\Users\\user\\Desktop\\Данные\\FHIR_mapping\n"
     ]
    },
    {
     "data": {
      "text/plain": [
       "{'address': [{'line': ['Улица: Снвцр', 'Номер дома: хх', 'Квартира: 571'],\n",
       "   'postalCode': '453656'}],\n",
       " 'birthDate': '19510326',\n",
       " 'gender': 'female',\n",
       " 'identifier': [{'value': 'Patient/GACAKв7'}],\n",
       " 'name': [{'family': 'Лисщрфоюь',\n",
       "   'given': ['Щкамзы', 'Шлэшфбчфлж'],\n",
       "   'text': 'Лисщрфоюь Щкамзы Шлэшфбчфлж'}],\n",
       " 'resourceType': 'Patient'}"
      ]
     },
     "execution_count": 5,
     "metadata": {},
     "output_type": "execute_result"
    }
   ],
   "source": [
    "fm.make_FHIR_patient_from_Cache(100009, print_=True)"
   ]
  },
  {
   "cell_type": "markdown",
   "metadata": {},
   "source": [
    "### Мапинг структурированных данных базы №2(SQL) на ресурс Patient"
   ]
  },
  {
   "cell_type": "code",
   "execution_count": 5,
   "metadata": {},
   "outputs": [
    {
     "name": "stdout",
     "output_type": "stream",
     "text": [
      "Paths path_fin is C:\\Users\\Admin\\Desktop\\Работа\\FHIR_mapping\n"
     ]
    },
    {
     "data": {
      "text/plain": [
       "{'birthDate': '1940-01-13',\n",
       " 'gender': 'female',\n",
       " 'identifier': [{'value': 'Patient/1648'},\n",
       "  {'system': 'СНИЛС', 'value': '000-000-000 00'}],\n",
       " 'name': [{'family': 'Фамилия1648',\n",
       "   'given': ['Имя1648', 'Отчество1648'],\n",
       "   'text': 'Имя1648 Отчество1648 Фамилия1648'}],\n",
       " 'resourceType': 'Patient'}"
      ]
     },
     "execution_count": 5,
     "metadata": {},
     "output_type": "execute_result"
    }
   ],
   "source": [
    "fm.make_FHIR_patient_from_Cardio(100, print_=True)"
   ]
  },
  {
   "cell_type": "markdown",
   "metadata": {},
   "source": [
    "### Мапинг структурированных данных (Вес) базы №1(Cache) на ресурс Observation с указанием кодов SNOMED"
   ]
  },
  {
   "cell_type": "code",
   "execution_count": 6,
   "metadata": {},
   "outputs": [
    {
     "name": "stdout",
     "output_type": "stream",
     "text": [
      "Paths path_fin is C:\\Users\\Admin\\Desktop\\Работа\\FHIR_mapping\n"
     ]
    },
    {
     "data": {
      "text/plain": [
       "{'bodySite': {'coding': [{'code': '261188006',\n",
       "    'display': 'Whole body',\n",
       "    'system': 'http://snomed.info/sct'}]},\n",
       " 'code': {'coding': [{'code': '27113001',\n",
       "    'display': 'Body weight',\n",
       "    'system': 'http://snomed.info/sct'}],\n",
       "  'text': 'Вес'},\n",
       " 'effectiveDateTime': '20200627',\n",
       " 'identifier': [{'value': 'GACAAAYAAAAbs11:30-k'}],\n",
       " 'status': 'неизвестно',\n",
       " 'subject': {'reference': 'Patient/GACAAAY'},\n",
       " 'valueQuantity': {'code': '258683005',\n",
       "  'system': 'http://snomed.info/sct',\n",
       "  'unit': 'kg',\n",
       "  'value': 82.0},\n",
       " 'resourceType': 'Observation'}"
      ]
     },
     "execution_count": 6,
     "metadata": {},
     "output_type": "execute_result"
    }
   ],
   "source": [
    "fm.make_FHIR_weights(2, print_=True)"
   ]
  }
 ],
 "metadata": {
  "kernelspec": {
   "display_name": "Python 3",
   "language": "python",
   "name": "python3"
  },
  "language_info": {
   "codemirror_mode": {
    "name": "ipython",
    "version": 3
   },
   "file_extension": ".py",
   "mimetype": "text/x-python",
   "name": "python",
   "nbconvert_exporter": "python",
   "pygments_lexer": "ipython3",
   "version": "3.8.5"
  }
 },
 "nbformat": 4,
 "nbformat_minor": 2
}
