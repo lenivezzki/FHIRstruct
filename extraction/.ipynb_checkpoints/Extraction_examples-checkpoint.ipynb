{
 "cells": [
  {
   "cell_type": "code",
   "execution_count": 1,
   "metadata": {},
   "outputs": [],
   "source": [
    "import os, sys\n",
    "\n",
    "PACKAGE_PATH = '../error_correction'\n",
    "sys.path.append('../error_correction')\n",
    "sys.path.append('../error_correction')\n",
    "os.chdir('../error_correction')"
   ]
  },
  {
   "cell_type": "code",
   "execution_count": 2,
   "metadata": {},
   "outputs": [],
   "source": [
    "from corrector import ErrorCorrector\n",
    "ec = ErrorCorrector()\n",
    "\n",
    "from extractor import Extractor\n",
    "e = Extractor()"
   ]
  },
  {
   "cell_type": "code",
   "execution_count": 3,
   "metadata": {},
   "outputs": [
    {
     "data": {
      "text/plain": [
       "(['ацетилсалициловая кислота'], ['сыпь'])"
      ]
     },
     "execution_count": 3,
     "metadata": {},
     "output_type": "execute_result"
    }
   ],
   "source": [
    "s = 'Однако у пациента аллергия на ацетилсалициловую кислотуту клинически сыпь'\n",
    "string = ec.correct(s)\n",
    "e.extract(string)"
   ]
  },
  {
   "cell_type": "code",
   "execution_count": 4,
   "metadata": {},
   "outputs": [
    {
     "data": {
      "text/plain": [
       "(['пищевой продукт',\n",
       "  'медикамент',\n",
       "  'тетрациклин',\n",
       "  'мономицин',\n",
       "  'левомицетин',\n",
       "  'пенициллин',\n",
       "  'канамицин',\n",
       "  'лидокаин',\n",
       "  'тримекаин',\n",
       "  'аспирин',\n",
       "  'анальгин',\n",
       "  'пирацетам',\n",
       "  'трентал',\n",
       "  'цитофлавин',\n",
       "  'но шпа',\n",
       "  'палин',\n",
       "  'канефрон',\n",
       "  'рибоксин'],\n",
       " [])"
      ]
     },
     "execution_count": 4,
     "metadata": {},
     "output_type": "execute_result"
    }
   ],
   "source": [
    "s = 'Аллергологический анамнез аллергия на пищевые продукты, медикаменты тетрациклин, мономицин, левомицетин, пенициллин, канамицин, лидокаин, тримекаин, аспирин, аналгин, пирацетам, трентал, цитофлавин, но шпа, палин, канефрон, рибоксин'\n",
    "string = ec.correct(s)\n",
    "e.extract(string)"
   ]
  },
  {
   "cell_type": "code",
   "execution_count": 15,
   "metadata": {},
   "outputs": [
    {
     "data": {
      "text/plain": [
       "(['терапия', 'сульфасалазин', 'купренил', 'базисный препарат'],\n",
       " ['аллергический дерматит', 'отек слизистой', 'непереносимость'])"
      ]
     },
     "execution_count": 15,
     "metadata": {},
     "output_type": "execute_result"
    }
   ],
   "source": [
    "s = 'Больна ревматоидным артритом в течение N лет. С XXXX г наблюдалась в N, где проводилась терапия декарисом, делагилом без эффекта, тауредоном с положительным эффектом. Однако из за аллергии терапия сульфасалазином, купренилом также не была возможной , аллергический дерматит, отек слизистой ротовой полости. В связи с непереносимостью базисных препаратов были назначены пероральные ГКС в дозе N мгсут, который пациентка принимала в течение N месяцев без отчетливого положительного эффекта, с постепенной отменной по рекомендации эндокринолога.'\n",
    "string = ec.correct(s)\n",
    "e.extract(string)"
   ]
  },
  {
   "cell_type": "code",
   "execution_count": null,
   "metadata": {},
   "outputs": [],
   "source": []
  }
 ],
 "metadata": {
  "kernelspec": {
   "display_name": "Python 3",
   "language": "python",
   "name": "python3"
  },
  "language_info": {
   "codemirror_mode": {
    "name": "ipython",
    "version": 3
   },
   "file_extension": ".py",
   "mimetype": "text/x-python",
   "name": "python",
   "nbconvert_exporter": "python",
   "pygments_lexer": "ipython3",
   "version": "3.8.5"
  }
 },
 "nbformat": 4,
 "nbformat_minor": 4
}
