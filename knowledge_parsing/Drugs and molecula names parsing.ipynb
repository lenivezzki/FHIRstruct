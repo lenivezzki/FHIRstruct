{
 "cells": [
  {
   "cell_type": "markdown",
   "metadata": {},
   "source": [
    "# Парсинг сайта vidal.ru"
   ]
  },
  {
   "cell_type": "code",
   "execution_count": 1,
   "metadata": {},
   "outputs": [],
   "source": [
    "from bs4 import BeautifulSoup\n",
    "import requests as req\n",
    "from  more_itertools import unique_everseen\n",
    "from tqdm import tqdm\n",
    "from tqdm import tqdm_notebook as tq\n",
    "from general_func import hascyr, recursive_flatten_generator, list_to_file, read_list\n",
    "import warnings\n",
    "warnings.filterwarnings('ignore')\n",
    "import codecs\n",
    "import re"
   ]
  },
  {
   "cell_type": "markdown",
   "metadata": {},
   "source": [
    "#### Названия препаратов"
   ]
  },
  {
   "cell_type": "code",
   "execution_count": 2,
   "metadata": {},
   "outputs": [],
   "source": [
    "start_ref = req.get(\"https://www.vidal.ru/drugs/products\")"
   ]
  },
  {
   "cell_type": "code",
   "execution_count": 3,
   "metadata": {},
   "outputs": [],
   "source": [
    "soup = BeautifulSoup(start_ref.text, 'lxml')\n",
    "#soup = soup.prettify()"
   ]
  },
  {
   "cell_type": "code",
   "execution_count": 4,
   "metadata": {},
   "outputs": [],
   "source": [
    "#Список ссылок на препараты\n",
    "letter_links = soup.find(\"div\", attrs={ \"class\" : \"letters-russian\"})\n",
    "l_links = []\n",
    "for link in letter_links.find_all('a'):\n",
    "    l_links.append(link.get('href'))\n",
    "letter_pages = ['https://www.vidal.ru'+link for link in l_links]\n",
    "full_pages=[]\n",
    "for ind in range(2,25):\n",
    "    for page in letter_pages:\n",
    "        p = page+'?p=%d\"' %ind \n",
    "        full_pages.append(p)\n",
    "full_pages.append(letter_pages)\n",
    "full_pages = recursive_flatten_generator(full_pages)"
   ]
  },
  {
   "cell_type": "code",
   "execution_count": 5,
   "metadata": {},
   "outputs": [
    {
     "data": {
      "text/plain": [
       "['https://www.vidal.ru/drugs/products/p/rus-a?p=2\"',\n",
       " 'https://www.vidal.ru/drugs/products/p/rus-b?p=2\"',\n",
       " 'https://www.vidal.ru/drugs/products/p/rus-v?p=2\"',\n",
       " 'https://www.vidal.ru/drugs/products/p/rus-g?p=2\"',\n",
       " 'https://www.vidal.ru/drugs/products/p/rus-d?p=2\"',\n",
       " 'https://www.vidal.ru/drugs/products/p/rus-e?p=2\"',\n",
       " 'https://www.vidal.ru/drugs/products/p/rus-zh?p=2\"',\n",
       " 'https://www.vidal.ru/drugs/products/p/rus-z?p=2\"',\n",
       " 'https://www.vidal.ru/drugs/products/p/rus-i?p=2\"',\n",
       " 'https://www.vidal.ru/drugs/products/p/rus-j?p=2\"']"
      ]
     },
     "execution_count": 5,
     "metadata": {},
     "output_type": "execute_result"
    }
   ],
   "source": [
    "full_pages[:10]"
   ]
  },
  {
   "cell_type": "code",
   "execution_count": 5,
   "metadata": {},
   "outputs": [
    {
     "data": {
      "application/vnd.jupyter.widget-view+json": {
       "model_id": "f999ccb674204348baf9642378eb9b4a",
       "version_major": 2,
       "version_minor": 0
      },
      "text/plain": [
       "HBox(children=(HTML(value=''), FloatProgress(value=0.0, max=792.0), HTML(value='')))"
      ]
     },
     "metadata": {},
     "output_type": "display_data"
    },
    {
     "name": "stdout",
     "output_type": "stream",
     "text": [
      "\n"
     ]
    }
   ],
   "source": [
    "full_links_list = []\n",
    "full_links=[]\n",
    "l=[]\n",
    "p=[]\n",
    "for page in tq(full_pages):\n",
    "    ref = req.get(page)\n",
    "    soup = BeautifulSoup(ref.text, 'lxml')\n",
    "    links = soup.find_all(\"a\", attrs={\"class\" : \"no-underline\"})\n",
    "    full_links.append(links)\n",
    "full_links = recursive_flatten_generator(full_links)"
   ]
  },
  {
   "cell_type": "code",
   "execution_count": 10,
   "metadata": {},
   "outputs": [
    {
     "data": {
      "text/plain": [
       "23431"
      ]
     },
     "execution_count": 10,
     "metadata": {},
     "output_type": "execute_result"
    }
   ],
   "source": [
    "#full_href = read_list('vidal_links.txt', 'utf-8')\n",
    "#full_href = list(unique_everseen(full_href))\n",
    "#len(full_href)"
   ]
  },
  {
   "cell_type": "code",
   "execution_count": 8,
   "metadata": {},
   "outputs": [
    {
     "data": {
      "text/plain": [
       "[<a class=\"no-underline\" href=\"/drugs/adaclean__31361\">\n",
       "                 Адаклин\n",
       "             </a>,\n",
       " <a class=\"no-underline\" href=\"/drugs/adam__35144\">\n",
       "                 Адам<sup>®</sup>\n",
       " </a>,\n",
       " <a class=\"no-underline\" href=\"/drugs/adam__35144\"><img alt=\"Адам\" class=\"change-img-after-load\" data-src=\"/upload/products/adam-homeofarm.jpg\" src=\"data:image/gif;base64,R0lGODlhAQABAAAAACwAAAAAAQABAAA=\"/></a>,\n",
       " <a class=\"no-underline\" href=\"/drugs/adaptol__11182\">\n",
       "                 Адаптол<sup>®</sup>\n",
       " </a>,\n",
       " <a class=\"no-underline\" href=\"/drugs/adaptol__11182\"><img alt=\"Адаптол\" class=\"change-img-after-load\" data-src=\"/upload/products/adaptol.jpg\" src=\"data:image/gif;base64,R0lGODlhAQABAAAAACwAAAAAAQABAAA=\"/></a>]"
      ]
     },
     "execution_count": 8,
     "metadata": {},
     "output_type": "execute_result"
    }
   ],
   "source": [
    "#Исключаем лишние позиции\n",
    "for item in full_links:\n",
    "    if not 'firm' in item.get('href'):\n",
    "        l.append(item)\n",
    "for item in l:\n",
    "    if not 'company' in item.get('href'):\n",
    "        p.append(item)\n",
    "for item in p:\n",
    "    if not 'password' in item.get('href'):\n",
    "        full_links_list.append(item)\n",
    "full_links_list[:5]"
   ]
  },
  {
   "cell_type": "code",
   "execution_count": 10,
   "metadata": {},
   "outputs": [
    {
     "data": {
      "text/plain": [
       "['Адаклин',\n",
       " 'Адам',\n",
       " '',\n",
       " 'Адаптол',\n",
       " 'Адасель',\n",
       " 'Адваграф',\n",
       " 'Адвантан',\n",
       " 'Адвейт',\n",
       " 'Адгелон',\n",
       " 'Аддамель Н']"
      ]
     },
     "execution_count": 10,
     "metadata": {},
     "output_type": "execute_result"
    }
   ],
   "source": [
    "med_names = [item.get_text() for item in full_links_list]\n",
    "med_names = list(unique_everseen(med_names))\n",
    "medications = [item.replace('\\n                ','').replace('\\n','').replace('®','').replace('            ','') for item in med_names]\n",
    "#list_to_file('drug_names.txt', sorted(medications), 'cp1251')\n",
    "medications[:10]"
   ]
  },
  {
   "cell_type": "code",
   "execution_count": 11,
   "metadata": {},
   "outputs": [
    {
     "data": {
      "application/vnd.jupyter.widget-view+json": {
       "model_id": "4b3c811e457c4b5187aff34a6778e3c8",
       "version_major": 2,
       "version_minor": 0
      },
      "text/plain": [
       "HBox(children=(HTML(value=''), FloatProgress(value=0.0, max=103024.0), HTML(value='')))"
      ]
     },
     "metadata": {},
     "output_type": "display_data"
    },
    {
     "name": "stdout",
     "output_type": "stream",
     "text": [
      "\n"
     ]
    },
    {
     "data": {
      "application/vnd.jupyter.widget-view+json": {
       "model_id": "3d50c3a4786f44e5911ee1259c628696",
       "version_major": 2,
       "version_minor": 0
      },
      "text/plain": [
       "HBox(children=(HTML(value=''), FloatProgress(value=0.0, max=103024.0), HTML(value='')))"
      ]
     },
     "metadata": {},
     "output_type": "display_data"
    },
    {
     "name": "stdout",
     "output_type": "stream",
     "text": [
      "\n"
     ]
    }
   ],
   "source": [
    "href = [item.get('href') for item in tq(full_links_list)]\n",
    "full_href = ['https://www.vidal.ru'+item for item in tq(href)]\n",
    "full_href = list(unique_everseen(full_href))"
   ]
  },
  {
   "cell_type": "code",
   "execution_count": 14,
   "metadata": {},
   "outputs": [],
   "source": [
    "#Сохраняем список всех ссылок на лекарственные препараты\n",
    "#list_to_file('vidal_links.txt', full_href, 'utf-8')"
   ]
  },
  {
   "cell_type": "code",
   "execution_count": 12,
   "metadata": {},
   "outputs": [],
   "source": [
    "medications = med_names\n",
    "medications = [item.lower() for item in medications]"
   ]
  },
  {
   "cell_type": "code",
   "execution_count": 13,
   "metadata": {},
   "outputs": [
    {
     "data": {
      "application/vnd.jupyter.widget-view+json": {
       "model_id": "fc855bd1afcc402c95b55b25c717767c",
       "version_major": 2,
       "version_minor": 0
      },
      "text/plain": [
       "HBox(children=(HTML(value=''), FloatProgress(value=0.0, max=23431.0), HTML(value='')))"
      ]
     },
     "metadata": {},
     "output_type": "display_data"
    },
    {
     "name": "stdout",
     "output_type": "stream",
     "text": [
      "\n"
     ]
    }
   ],
   "source": [
    "#Лучше использовать из сохраненного файла, парсится долго (час-два)\n",
    "# Файл 'names_trans_1.txt'\n",
    "names=[]\n",
    "for page in tq(full_href):\n",
    "    ref = req.get(page)\n",
    "    soup = BeautifulSoup(ref.text, 'lxml')\n",
    "    rus_name = soup.find_all(\"span\", attrs={ \"class\" : \"anons-product\"})\n",
    "    eng_name = soup.find_all(\"span\", attrs={ \"class\" : \"atc-name small\"}) \n",
    "    rus = [item.get_text().lower() for item in rus_name]\n",
    "    eng = [item.get_text().lower() for item in eng_name]\n",
    "    names.append((rus,eng))"
   ]
  },
  {
   "cell_type": "code",
   "execution_count": 17,
   "metadata": {},
   "outputs": [
    {
     "data": {
      "text/plain": [
       "[(['адаклин'], ['(adapalene)']),\n",
       " (['адам®'], ['(не присвоен)']),\n",
       " (['адаптол®'], ['(tetramethylglycoluril)']),\n",
       " (['адасель'], ['(pertussis, purified antigen, combinations with toxoids)']),\n",
       " (['адваграф®'], ['(tacrolimus)']),\n",
       " (['адваграф®'], ['(tacrolimus)']),\n",
       " (['адваграф®'], ['(tacrolimus)']),\n",
       " (['адваграф®'], ['(tacrolimus)']),\n",
       " (['адвантан®'], ['(methylprednisolone aceponate)']),\n",
       " (['адвейт®'], ['(coagulation factor viii)'])]"
      ]
     },
     "execution_count": 17,
     "metadata": {},
     "output_type": "execute_result"
    }
   ],
   "source": [
    "#Список название препарата - действующее вещество на английском языке, далее используется при сопоставленипи кодов SNOMED CT\n",
    "names[:10]"
   ]
  },
  {
   "cell_type": "code",
   "execution_count": 24,
   "metadata": {},
   "outputs": [],
   "source": [
    "import pandas as pd\n",
    "import numpy as np\n",
    "\n",
    "#rus = [name[0] for name in names]\n",
    "#eng = [name[1] for name in names]\n",
    "#df = pd.DataFrame({'rus' : []})\n",
    "#df = pd.DataFrame({'rus' : []})\n",
    "#df['rus'] = rus\n",
    "#df['eng'] = eng\n",
    "#df_in = df[df[0].isin(medications)]\n",
    "#df.to_csv(r'names_trans_1.txt', header=None, index=None, sep='\\t', encoding='cp1251')"
   ]
  },
  {
   "cell_type": "code",
   "execution_count": 18,
   "metadata": {},
   "outputs": [
    {
     "data": {
      "text/html": [
       "<div>\n",
       "<style scoped>\n",
       "    .dataframe tbody tr th:only-of-type {\n",
       "        vertical-align: middle;\n",
       "    }\n",
       "\n",
       "    .dataframe tbody tr th {\n",
       "        vertical-align: top;\n",
       "    }\n",
       "\n",
       "    .dataframe thead th {\n",
       "        text-align: right;\n",
       "    }\n",
       "</style>\n",
       "<table border=\"1\" class=\"dataframe\">\n",
       "  <thead>\n",
       "    <tr style=\"text-align: right;\">\n",
       "      <th></th>\n",
       "      <th>index</th>\n",
       "      <th>0</th>\n",
       "      <th>1</th>\n",
       "    </tr>\n",
       "  </thead>\n",
       "  <tbody>\n",
       "    <tr>\n",
       "      <th>0</th>\n",
       "      <td>0</td>\n",
       "      <td>аевит</td>\n",
       "      <td>multivitamin</td>\n",
       "    </tr>\n",
       "    <tr>\n",
       "      <th>1</th>\n",
       "      <td>1</td>\n",
       "      <td>валериана</td>\n",
       "      <td>valerianae radix</td>\n",
       "    </tr>\n",
       "    <tr>\n",
       "      <th>2</th>\n",
       "      <td>2</td>\n",
       "      <td>геделикс</td>\n",
       "      <td>Hederae helicis foliorum extract</td>\n",
       "    </tr>\n",
       "    <tr>\n",
       "      <th>3</th>\n",
       "      <td>3</td>\n",
       "      <td>гексорал</td>\n",
       "      <td>hexetidine</td>\n",
       "    </tr>\n",
       "    <tr>\n",
       "      <th>4</th>\n",
       "      <td>4</td>\n",
       "      <td>гелофузин</td>\n",
       "      <td>Gelatine</td>\n",
       "    </tr>\n",
       "  </tbody>\n",
       "</table>\n",
       "</div>"
      ],
      "text/plain": [
       "   index          0                                 1\n",
       "0      0      аевит                      multivitamin\n",
       "1      1  валериана                  valerianae radix\n",
       "2      2   геделикс  Hederae helicis foliorum extract\n",
       "3      3   гексорал                        hexetidine\n",
       "4      4  гелофузин                          Gelatine"
      ]
     },
     "execution_count": 18,
     "metadata": {},
     "output_type": "execute_result"
    }
   ],
   "source": [
    "df = pd.read_csv('names_trans_1.txt', encoding='cp1251', sep='\\t', engine='python', header=None, error_bad_lines=False)\n",
    "df = df.drop_duplicates().reset_index()\n",
    "df.head()"
   ]
  },
  {
   "cell_type": "markdown",
   "metadata": {},
   "source": [
    "#### Действующие вещества"
   ]
  },
  {
   "cell_type": "code",
   "execution_count": 19,
   "metadata": {},
   "outputs": [],
   "source": [
    "start_page = 'https://www.vidal.ru/drugs/molecules?p='\n",
    "pages=[]\n",
    "for ind in range(1,50):\n",
    "    page = start_page+'%d' %ind\n",
    "    pages.append(page)"
   ]
  },
  {
   "cell_type": "code",
   "execution_count": 20,
   "metadata": {},
   "outputs": [
    {
     "name": "stderr",
     "output_type": "stream",
     "text": [
      "100%|██████████| 49/49 [01:45<00:00,  2.16s/it]\n"
     ]
    }
   ],
   "source": [
    "#Список ссылок на действующие вещества\n",
    "all_molec_links=[]\n",
    "for page in tqdm(pages):\n",
    "    ref = req.get(page)\n",
    "    soup = BeautifulSoup(ref.text, 'lxml')\n",
    "    table = soup.find(\"table\", attrs={ \"class\" : \"products-table molecules\"})  \n",
    "    molec_links = ['https://www.vidal.ru'+item.get('href') for item in table.find_all('a')]\n",
    "    uniq_links = list(unique_everseen(molec_links))\n",
    "    all_molec_links.append(uniq_links)\n",
    "all_molec_links = recursive_flatten_generator(all_molec_links)\n",
    "all_molec_links = sorted(list(unique_everseen((all_molec_links))))\n",
    "all_molec_links = all_molec_links[1:]"
   ]
  },
  {
   "cell_type": "code",
   "execution_count": 30,
   "metadata": {},
   "outputs": [
    {
     "data": {
      "text/plain": [
       "['https://www.vidal.ru/drugs/molecule/1',\n",
       " 'https://www.vidal.ru/drugs/molecule/10',\n",
       " 'https://www.vidal.ru/drugs/molecule/1002',\n",
       " 'https://www.vidal.ru/drugs/molecule/1003',\n",
       " 'https://www.vidal.ru/drugs/molecule/1004',\n",
       " 'https://www.vidal.ru/drugs/molecule/1005',\n",
       " 'https://www.vidal.ru/drugs/molecule/1006',\n",
       " 'https://www.vidal.ru/drugs/molecule/1007',\n",
       " 'https://www.vidal.ru/drugs/molecule/1008',\n",
       " 'https://www.vidal.ru/drugs/molecule/1009']"
      ]
     },
     "execution_count": 30,
     "metadata": {},
     "output_type": "execute_result"
    }
   ],
   "source": [
    "all_molec_links[:10]"
   ]
  },
  {
   "cell_type": "code",
   "execution_count": 32,
   "metadata": {},
   "outputs": [
    {
     "name": "stderr",
     "output_type": "stream",
     "text": [
      "100%|██████████| 2070/2070 [03:36<00:00,  9.55it/s]\n"
     ]
    }
   ],
   "source": [
    "#Парсинг русскоязычных названий действующих веществ (для поиска в текстах)\n",
    "full_rus_name=[]\n",
    "for link in tqdm(all_molec_links):\n",
    "    ref = req.get(link)\n",
    "    soup = BeautifulSoup(ref.text, 'lxml')\n",
    "    name = soup.find(\"h1\")\n",
    "    rus_name = name.get_text()\n",
    "    full_rus_name.append(rus_name)\n",
    "full_rus_name = recursive_flatten_generator(full_rus_name)"
   ]
  },
  {
   "cell_type": "code",
   "execution_count": 33,
   "metadata": {},
   "outputs": [
    {
     "data": {
      "text/plain": [
       "['        АБЦИКСИМАБ (ABCIXIMAB) ОПИСАНИЕ\\n    ',\n",
       " '        АЦЕТИЛЦИСТЕИН (ACETYLCYSTEINE) ОПИСАНИЕ\\n    ',\n",
       " '        СУКСАМЕТОНИЯ ХЛОРИД (SUXAMETHONIUM CHLORIDE) ОПИСАНИЕ\\n    ',\n",
       " '        ТАЛИНОЛОЛ (TALINOLOL) ОПИСАНИЕ\\n    ',\n",
       " '        ТАМОКСИФЕН (TAMOXIFEN) ОПИСАНИЕ\\n    ',\n",
       " '        ТАМСУЛОЗИН (TAMSULOSIN) ОПИСАНИЕ\\n    ',\n",
       " '        ЦВЕТКИ ПИЖМЫ ОБЫКНОВЕННОЙ (TANACETUM VULGARE FLORES) ОПИСАНИЕ\\n    ',\n",
       " '        ДЕГОТЬ (TAR) ОПИСАНИЕ\\n    ',\n",
       " '        КОРНИ И ТРАВА ОДУВАНЧИКА (TARAXACI RADIX CUM HERBA) ОПИСАНИЕ\\n    ',\n",
       " '        ТАУРИН (TAURINE) ОПИСАНИЕ\\n    ']"
      ]
     },
     "execution_count": 33,
     "metadata": {},
     "output_type": "execute_result"
    }
   ],
   "source": [
    "full_rus_name[:10]"
   ]
  },
  {
   "cell_type": "code",
   "execution_count": 35,
   "metadata": {},
   "outputs": [],
   "source": [
    "#list_to_file('molec_links.txt', sorted(all_molec_links),'cp1251')\n",
    "#list_to_file('molec_names.txt', sorted(full_rus_name),'cp1251')"
   ]
  },
  {
   "cell_type": "markdown",
   "metadata": {},
   "source": [
    "# Парсинг рос реестра лекартственных препаратов"
   ]
  },
  {
   "cell_type": "code",
   "execution_count": 2,
   "metadata": {},
   "outputs": [],
   "source": [
    "main_page_str = \"https://www.rlsnet.ru\"\n",
    "main_page = req.get(main_page_str)\n",
    "\n",
    "start_page = req.get(\"https://www.rlsnet.ru/tn_alf_letter_c0.htm\")\n",
    "soup = BeautifulSoup(start_page.text, 'lxml')"
   ]
  },
  {
   "cell_type": "markdown",
   "metadata": {},
   "source": [
    "#### Сбор страниц"
   ]
  },
  {
   "cell_type": "code",
   "execution_count": 3,
   "metadata": {},
   "outputs": [],
   "source": [
    "def get_letter_pages(tag, attribute, attr_value):\n",
    "    all_pages=[]\n",
    "    letter_links = soup.find_all(tag, attrs={ attribute : attr_value})\n",
    "    for link in letter_links:\n",
    "        page = main_page_str+link.get('href')\n",
    "        all_pages.append(page)\n",
    "    return all_pages\n",
    "\n",
    "def get_names(all_pages, tag):\n",
    "    names=[]\n",
    "    for page in tqdm_notebook(all_pages):\n",
    "        ref = req.get(page)\n",
    "        soup = BeautifulSoup(ref.text, 'lxml')\n",
    "        name = soup.find_all(tag)\n",
    "        rus_name = [item.get_text() for item in name]\n",
    "        names.append(rus_name)\n",
    "    return names"
   ]
  },
  {
   "cell_type": "code",
   "execution_count": 4,
   "metadata": {},
   "outputs": [
    {
     "data": {
      "text/plain": [
       "['https://www.rlsnet.ru/tn_alf_letter_c0.htm?',\n",
       " 'https://www.rlsnet.ru/tn_alf_letter_c1.htm?',\n",
       " 'https://www.rlsnet.ru/tn_alf_letter_c2.htm?',\n",
       " 'https://www.rlsnet.ru/tn_alf_letter_c3.htm?',\n",
       " 'https://www.rlsnet.ru/tn_alf_letter_c4.htm?',\n",
       " 'https://www.rlsnet.ru/tn_alf_letter_c5.htm?',\n",
       " 'https://www.rlsnet.ru/tn_alf_letter_c6.htm?',\n",
       " 'https://www.rlsnet.ru/tn_alf_letter_c7.htm?',\n",
       " 'https://www.rlsnet.ru/tn_alf_letter_c8.htm?',\n",
       " 'https://www.rlsnet.ru/tn_alf_letter_c9.htm?']"
      ]
     },
     "execution_count": 4,
     "metadata": {},
     "output_type": "execute_result"
    }
   ],
   "source": [
    "#Страницы в РЛС пронумерованы, получаем их генерацией\n",
    "pages =[]\n",
    "for ind in range(0,10):\n",
    "    pages.append('https://www.rlsnet.ru/tn_alf_letter_c%i.htm?' %ind)\n",
    "let = ['a','b','c','d','e','f']\n",
    "for item in let:\n",
    "    pages.append('https://www.rlsnet.ru/tn_alf_letter_c%s.htm?' %item)\n",
    "for ind in range(0,9):\n",
    "    pages.append('https://www.rlsnet.ru/tn_alf_letter_d%i.htm?' %ind)\n",
    "for ind in let[-3:]:\n",
    "    pages.append('https://www.rlsnet.ru/tn_alf_letter_d%s.htm?' %ind)\n",
    "pages.append('https://www.rlsnet.ru/tn_alf_letter_1.htm?')\n",
    "pages[:10]"
   ]
  },
  {
   "cell_type": "code",
   "execution_count": 5,
   "metadata": {},
   "outputs": [
    {
     "data": {
      "application/vnd.jupyter.widget-view+json": {
       "model_id": "4743233af68740b5a41f25c7f55e342d",
       "version_major": 2,
       "version_minor": 0
      },
      "text/plain": [
       "HBox(children=(HTML(value=''), FloatProgress(value=0.0, max=29.0), HTML(value='')))"
      ]
     },
     "metadata": {},
     "output_type": "display_data"
    },
    {
     "name": "stdout",
     "output_type": "stream",
     "text": [
      "\n"
     ]
    },
    {
     "data": {
      "text/plain": [
       "14936"
      ]
     },
     "execution_count": 5,
     "metadata": {},
     "output_type": "execute_result"
    }
   ],
   "source": [
    "#Получаем общее количество страниц\n",
    "links=[]\n",
    "for link in tq(pages):\n",
    "    page = req.get(link)\n",
    "    soup = BeautifulSoup(page.text, 'lxml')\n",
    "    content = soup.find_all('li')\n",
    "    c = [item.find_all('a') for item in content]\n",
    "    c = recursive_flatten_generator(c)\n",
    "    for item in c:\n",
    "        if not 'class' in str(item):\n",
    "            link = item.get('href')\n",
    "            links.append(link)\n",
    "links = list(unique_everseen(links))\n",
    "links=['http://'+item[6:] for item in links]\n",
    "len(links)"
   ]
  },
  {
   "cell_type": "code",
   "execution_count": 26,
   "metadata": {},
   "outputs": [
    {
     "data": {
      "application/vnd.jupyter.widget-view+json": {
       "model_id": "6d4246a681344d2f8601926b443b7b11",
       "version_major": 2,
       "version_minor": 0
      },
      "text/plain": [
       "HBox(children=(HTML(value=''), FloatProgress(value=0.0, max=14936.0), HTML(value='')))"
      ]
     },
     "metadata": {},
     "output_type": "display_data"
    },
    {
     "name": "stdout",
     "output_type": "stream",
     "text": [
      "\n"
     ]
    }
   ],
   "source": [
    "#Также парсится долго, лучше читать из файла\n",
    "#Получаем имена\n",
    "molec=[]\n",
    "names=[]\n",
    "for link in tq(links):\n",
    "    page = req.get(link)\n",
    "    soup = BeautifulSoup(page.text, 'lxml')\n",
    "    a = soup.find_all('a', attrs={'class':'drug__link drug__link--article'})\n",
    "    for item in a:\n",
    "        molec.append(item.get_text())\n",
    "    a = soup.find_all('h1')\n",
    "    if a:\n",
    "        names.append(a[0].get_text())\n"
   ]
  },
  {
   "cell_type": "code",
   "execution_count": 28,
   "metadata": {},
   "outputs": [
    {
     "data": {
      "text/plain": [
       "['А.Т.10® (A.T.10®)',\n",
       " 'аАКДС-Геп В+Hib (Вакцина против дифтерии, столбняка, гепатита В, коклюша бесклеточная адсорбированная, инфекции, вызываемой Haemophilus influenzae тип b, конъюгированная синтетическая)',\n",
       " 'Абаджио®',\n",
       " 'Абакавир-Эдвансд',\n",
       " 'Абактал® (Abaktal®)',\n",
       " 'Абилифай (Abilify)',\n",
       " 'Абиратерон (Abiraterone)',\n",
       " 'Абиратерон НВ',\n",
       " 'Абиратерон-ТЛ (Abiraterone-TL)',\n",
       " 'Абисиб (Abisib)']"
      ]
     },
     "execution_count": 28,
     "metadata": {},
     "output_type": "execute_result"
    }
   ],
   "source": [
    "names[:10]"
   ]
  },
  {
   "cell_type": "code",
   "execution_count": 29,
   "metadata": {},
   "outputs": [
    {
     "data": {
      "text/plain": [
       "['Дигидротахистерол* (Dihydrotachysterol*)',\n",
       " 'A11CC02 Дигидротахистерол',\n",
       " 'Регулятор обмена кальция и фосфора [Корректоры метаболизма костной и хрящевой ткани]',\n",
       " 'Витамины и витаминоподобные средства',\n",
       " 'Вакцина для профилактики дифтерии, столбняка, коклюша (бесклеточная), гепатита B и инфекции, вызываемой Haemophilus influenzae тип b (Vaccinum ad prophylaxim diphtheriae, tetani, pertussis, hepatitidis epidemicae B et infectionibus Haemophilus influenzae b)',\n",
       " 'J07CA Вакцины бактериальные и вирусные в комбинации',\n",
       " 'Вакцины, сыворотки, фаги и анатоксины',\n",
       " 'Терифлуномид* (Teriflunomide*)',\n",
       " 'L04AA31 Терифлуномид',\n",
       " 'Иммунодепрессанты']"
      ]
     },
     "execution_count": 29,
     "metadata": {},
     "output_type": "execute_result"
    }
   ],
   "source": [
    "molec[:10]"
   ]
  },
  {
   "cell_type": "code",
   "execution_count": 32,
   "metadata": {},
   "outputs": [],
   "source": [
    "#list_to_file('rlsnet_drug_names.txt', names, 'utf-8')\n",
    "#list_to_file('rlsnet_molec_names.txt', molec, 'utf-8')"
   ]
  },
  {
   "cell_type": "markdown",
   "metadata": {},
   "source": [
    "## Парсинг БЗ Хеликс"
   ]
  },
  {
   "cell_type": "code",
   "execution_count": 2,
   "metadata": {},
   "outputs": [],
   "source": [
    "#Сбор ссылок названий лабораторных тестов\n",
    "main_page_str = \"https://helix.ru\"\n",
    "main_page = req.get(main_page_str)\n",
    "\n",
    "start_page = req.get(\"https://helix.ru/kb\")\n",
    "soup = BeautifulSoup(start_page.text, 'lxml')\n",
    "\n",
    "tests = soup.find_all('a', attrs={ 'class' : 'Kb-Sections-Item'})\n",
    "tests_links=[main_page_str+item.get('href') for item in tests]"
   ]
  },
  {
   "cell_type": "code",
   "execution_count": 3,
   "metadata": {},
   "outputs": [],
   "source": [
    "#Сборс сылок названий заболеваний\n",
    "disease=codecs.open(\"disease.html\",'r','utf-8')\n",
    "document= BeautifulSoup(disease.read(), 'html.parser')\n",
    "disease_links = [item.get('href') for item in document.find_all('a')]\n",
    "disease_links = [link for link in disease_links if link]\n",
    "disease_links = [link for link in disease_links if 'item' in link]"
   ]
  },
  {
   "cell_type": "code",
   "execution_count": 4,
   "metadata": {},
   "outputs": [],
   "source": [
    "#Сбор ссылок терминов\n",
    "terms=codecs.open(\"terms.html\",'r','utf-8')\n",
    "document= BeautifulSoup(terms.read(), 'html.parser')\n",
    "terms_links = [item.get('href') for item in document.find_all('a')]\n",
    "terms_links = [link for link in terms_links if link]\n",
    "terms_links = [link for link in terms_links if 'dict' in link]\n",
    "all_links = tests_links+disease_links+terms_links"
   ]
  },
  {
   "cell_type": "code",
   "execution_count": 7,
   "metadata": {},
   "outputs": [
    {
     "data": {
      "text/plain": [
       "2381"
      ]
     },
     "execution_count": 7,
     "metadata": {},
     "output_type": "execute_result"
    }
   ],
   "source": [
    "all_links = list(unique_everseen(all_links))\n",
    "all_links = [item for item in all_links if 'tel' not in item]\n",
    "len(all_links)"
   ]
  },
  {
   "cell_type": "code",
   "execution_count": 8,
   "metadata": {},
   "outputs": [
    {
     "data": {
      "application/vnd.jupyter.widget-view+json": {
       "model_id": "092228b93e6640f9a11d429cf02e9d61",
       "version_major": 2,
       "version_minor": 0
      },
      "text/plain": [
       "HBox(children=(HTML(value=''), FloatProgress(value=0.0, max=2381.0), HTML(value='')))"
      ]
     },
     "metadata": {},
     "output_type": "display_data"
    },
    {
     "name": "stdout",
     "output_type": "stream",
     "text": [
      "\n"
     ]
    }
   ],
   "source": [
    "#Сбор текстов по темам\n",
    "texts=[]\n",
    "for link in tq(all_links):\n",
    "    page = req.get(link)\n",
    "    soup = BeautifulSoup(page.text, 'lxml')\n",
    "    content = soup.find_all('div', attrs={ 'class' : 'Kb-Content-Item-Content'})\n",
    "    if content!=[]:\n",
    "        c = content[0].get_text()\n",
    "        if 'Литература' in content[0].get_text():\n",
    "            ind = c.index('Литература')\n",
    "            text = c[:ind]\n",
    "        else:\n",
    "            text = c\n",
    "        text = text.replace('\\n',' ').replace('\\xa0',' ').replace('\\ufeff',' ')\n",
    "        text = re.sub(r'\\s+', ' ', text)\n",
    "        texts.append(text)\n"
   ]
  },
  {
   "cell_type": "code",
   "execution_count": 9,
   "metadata": {},
   "outputs": [
    {
     "name": "stdout",
     "output_type": "stream",
     "text": [
      "Количество текстов: 2215\n"
     ]
    }
   ],
   "source": [
    "print('Количество текстов:', len(texts))"
   ]
  },
  {
   "cell_type": "code",
   "execution_count": 10,
   "metadata": {},
   "outputs": [],
   "source": [
    "t='\\n'.join(texts)"
   ]
  },
  {
   "cell_type": "code",
   "execution_count": 11,
   "metadata": {},
   "outputs": [],
   "source": [
    "#list_to_file('helix_bz.txt', texts, 'utf-8')"
   ]
  }
 ],
 "metadata": {
  "kernelspec": {
   "display_name": "Python 3",
   "language": "python",
   "name": "python3"
  },
  "language_info": {
   "codemirror_mode": {
    "name": "ipython",
    "version": 3
   },
   "file_extension": ".py",
   "mimetype": "text/x-python",
   "name": "python",
   "nbconvert_exporter": "python",
   "pygments_lexer": "ipython3",
   "version": "3.8.5"
  }
 },
 "nbformat": 4,
 "nbformat_minor": 2
}
